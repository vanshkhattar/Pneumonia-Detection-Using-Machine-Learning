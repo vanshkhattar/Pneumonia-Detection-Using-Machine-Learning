{
  "cells": [
    {
      "cell_type": "code",
      "execution_count": null,
      "id": "33e4946f-7a70-4fcc-a3e1-b136fc48ac12",
      "metadata": {
        "id": "33e4946f-7a70-4fcc-a3e1-b136fc48ac12",
        "outputId": "cfc53520-5514-4013-d375-5a28b0f353da"
      },
      "outputs": [
        {
          "name": "stdout",
          "output_type": "stream",
          "text": [
            "['test', 'train']\n",
            "[0, 1]\n",
            "{'test': 0, 'train': 1}\n"
          ]
        }
      ],
      "source": [
        "import cv2 as cv\n",
        "import os\n",
        "\n",
        "datapath = 'chestimages'\n",
        "Categories = os.listdir(datapath)\n",
        "\n",
        "labels = [i for i in range(len(Categories))]\n",
        "\n",
        "labeldict = {}\n",
        "\n",
        "for i in range(len(Categories)):\n",
        "    labeldict[Categories[i]] = labels[i]\n",
        "\n",
        "print(Categories)\n",
        "print(labels)\n",
        "print(labeldict)\n"
      ]
    },
    {
      "cell_type": "code",
      "execution_count": null,
      "id": "955c5492-cfb2-48f4-9ad1-811a5d49bc76",
      "metadata": {
        "id": "955c5492-cfb2-48f4-9ad1-811a5d49bc76"
      },
      "outputs": [],
      "source": [
        "imageSize = 128\n",
        "Dataset = []\n",
        "\n",
        "for Category in Categories:\n",
        "    folderpath = os.path.join(datapath, Category)\n",
        "    imageNames = os.listdir(folderpath)\n",
        "    for imageName in imageNames:\n",
        "        imagePath = os.path.join(folderpath, imageName)\n",
        "        image = cv.imread(imagePath)\n",
        "        try:\n",
        "            grayImage = cv.cvtColor(image, cv.COLOR_BGR2GRAY)\n",
        "            resized = cv.resize(grayImage, (imageSize, imageSize))\n",
        "            Dataset.append([resized, labeldict[Category]])\n",
        "        except Exception as e:\n",
        "            print(e)\n"
      ]
    },
    {
      "cell_type": "code",
      "execution_count": null,
      "id": "babe27c0-8bff-44a3-96cd-85160e1c9d59",
      "metadata": {
        "id": "babe27c0-8bff-44a3-96cd-85160e1c9d59"
      },
      "outputs": [],
      "source": [
        "#len (dataset)\n",
        "from random import shuffle\n",
        "\n",
        "shuffle(Dataset)"
      ]
    },
    {
      "cell_type": "code",
      "execution_count": null,
      "id": "5ca88444-ce9e-41bd-9eee-3249c19c3f53",
      "metadata": {
        "id": "5ca88444-ce9e-41bd-9eee-3249c19c3f53"
      },
      "outputs": [],
      "source": [
        "data=[]\n",
        "target=[]\n",
        "\n",
        "for feature,label in Dataset:\n",
        "    data.append(feature)\n",
        "    target.append(label)"
      ]
    },
    {
      "cell_type": "code",
      "execution_count": null,
      "id": "023ac54e-1d15-47fe-8484-291134bc61e6",
      "metadata": {
        "id": "023ac54e-1d15-47fe-8484-291134bc61e6",
        "outputId": "f4b265f7-d034-4ed0-c630-be352e5c54c2"
      },
      "outputs": [
        {
          "name": "stdout",
          "output_type": "stream",
          "text": [
            "(5933, 128, 128, 1)\n",
            "(5933, 128, 128, 1)\n",
            "(5933,)\n"
          ]
        }
      ],
      "source": [
        "import numpy as np\n",
        "data = np.array(data)/255\n",
        "print(data.shape)\n",
        "data=np.reshape(data, (data.shape[0],imageSize,imageSize,1))\n",
        "target=np.array(target)\n",
        "#print(target)\n",
        "#print(data.shape)\n",
        "print(data.shape)\n",
        "print(target.shape)\n",
        "from keras.utils import to_categorical\n",
        "\n",
        "newTarget=to_categorical(target)\n",
        "#print(newTarget)"
      ]
    },
    {
      "cell_type": "code",
      "execution_count": null,
      "id": "e2b156ca-4134-4fd2-a3a1-4f997155839e",
      "metadata": {
        "id": "e2b156ca-4134-4fd2-a3a1-4f997155839e"
      },
      "outputs": [],
      "source": [
        "np.save('dataChestXray',data)\n",
        "np.save('targetChestXray',newTarget)"
      ]
    },
    {
      "cell_type": "code",
      "execution_count": null,
      "id": "756ec18b-2970-4c48-84f4-c7b5fccb61a0",
      "metadata": {
        "id": "756ec18b-2970-4c48-84f4-c7b5fccb61a0"
      },
      "outputs": [],
      "source": []
    }
  ],
  "metadata": {
    "kernelspec": {
      "display_name": "Python 3 (ipykernel)",
      "language": "python",
      "name": "python3"
    },
    "language_info": {
      "codemirror_mode": {
        "name": "ipython",
        "version": 3
      },
      "file_extension": ".py",
      "mimetype": "text/x-python",
      "name": "python",
      "nbconvert_exporter": "python",
      "pygments_lexer": "ipython3",
      "version": "3.12.3"
    },
    "colab": {
      "provenance": []
    }
  },
  "nbformat": 4,
  "nbformat_minor": 5
}